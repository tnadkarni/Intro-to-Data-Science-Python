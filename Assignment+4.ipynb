{
 "cells": [
  {
   "cell_type": "markdown",
   "metadata": {},
   "source": [
    "---\n",
    "\n",
    "_You are currently looking at **version 1.1** of this notebook. To download notebooks and datafiles, as well as get help on Jupyter notebooks in the Coursera platform, visit the [Jupyter Notebook FAQ](https://www.coursera.org/learn/python-data-analysis/resources/0dhYG) course resource._\n",
    "\n",
    "---"
   ]
  },
  {
   "cell_type": "code",
   "execution_count": 571,
   "metadata": {
    "collapsed": true
   },
   "outputs": [],
   "source": [
    "import pandas as pd\n",
    "import numpy as np\n",
    "from scipy.stats import ttest_ind"
   ]
  },
  {
   "cell_type": "markdown",
   "metadata": {},
   "source": [
    "# Assignment 4 - Hypothesis Testing\n",
    "This assignment requires more individual learning than previous assignments - you are encouraged to check out the [pandas documentation](http://pandas.pydata.org/pandas-docs/stable/) to find functions or methods you might not have used yet, or ask questions on [Stack Overflow](http://stackoverflow.com/) and tag them as pandas and python related. And of course, the discussion forums are open for interaction with your peers and the course staff.\n",
    "\n",
    "Definitions:\n",
    "* A _quarter_ is a specific three month period, Q1 is January through March, Q2 is April through June, Q3 is July through September, Q4 is October through December.\n",
    "* A _recession_ is defined as starting with two consecutive quarters of GDP decline, and ending with two consecutive quarters of GDP growth.\n",
    "* A _recession bottom_ is the quarter within a recession which had the lowest GDP.\n",
    "* A _university town_ is a city which has a high percentage of university students compared to the total population of the city.\n",
    "\n",
    "**Hypothesis**: University towns have their mean housing prices less effected by recessions. Run a t-test to compare the ratio of the mean price of houses in university towns the quarter before the recession starts compared to the recession bottom. (`price_ratio=quarter_before_recession/recession_bottom`)\n",
    "\n",
    "The following data files are available for this assignment:\n",
    "* From the [Zillow research data site](http://www.zillow.com/research/data/) there is housing data for the United States. In particular the datafile for [all homes at a city level](http://files.zillowstatic.com/research/public/City/City_Zhvi_AllHomes.csv), ```City_Zhvi_AllHomes.csv```, has median home sale prices at a fine grained level.\n",
    "* From the Wikipedia page on college towns is a list of [university towns in the United States](https://en.wikipedia.org/wiki/List_of_college_towns#College_towns_in_the_United_States) which has been copy and pasted into the file ```university_towns.txt```.\n",
    "* From Bureau of Economic Analysis, US Department of Commerce, the [GDP over time](http://www.bea.gov/national/index.htm#gdp) of the United States in current dollars (use the chained value in 2009 dollars), in quarterly intervals, in the file ```gdplev.xls```. For this assignment, only look at GDP data from the first quarter of 2000 onward.\n",
    "\n",
    "Each function in this assignment below is worth 10%, with the exception of ```run_ttest()```, which is worth 50%."
   ]
  },
  {
   "cell_type": "code",
   "execution_count": 572,
   "metadata": {
    "collapsed": true
   },
   "outputs": [],
   "source": [
    "import pandas as pd\n",
    "import re"
   ]
  },
  {
   "cell_type": "code",
   "execution_count": 573,
   "metadata": {
    "collapsed": true
   },
   "outputs": [],
   "source": [
    "# Use this dictionary to map state names to two letter acronyms\n",
    "states = {'OH': 'Ohio', 'KY': 'Kentucky', 'AS': 'American Samoa', 'NV': 'Nevada', 'WY': 'Wyoming', 'NA': 'National', 'AL': 'Alabama', 'MD': 'Maryland', 'AK': 'Alaska', 'UT': 'Utah', 'OR': 'Oregon', 'MT': 'Montana', 'IL': 'Illinois', 'TN': 'Tennessee', 'DC': 'District of Columbia', 'VT': 'Vermont', 'ID': 'Idaho', 'AR': 'Arkansas', 'ME': 'Maine', 'WA': 'Washington', 'HI': 'Hawaii', 'WI': 'Wisconsin', 'MI': 'Michigan', 'IN': 'Indiana', 'NJ': 'New Jersey', 'AZ': 'Arizona', 'GU': 'Guam', 'MS': 'Mississippi', 'PR': 'Puerto Rico', 'NC': 'North Carolina', 'TX': 'Texas', 'SD': 'South Dakota', 'MP': 'Northern Mariana Islands', 'IA': 'Iowa', 'MO': 'Missouri', 'CT': 'Connecticut', 'WV': 'West Virginia', 'SC': 'South Carolina', 'LA': 'Louisiana', 'KS': 'Kansas', 'NY': 'New York', 'NE': 'Nebraska', 'OK': 'Oklahoma', 'FL': 'Florida', 'CA': 'California', 'CO': 'Colorado', 'PA': 'Pennsylvania', 'DE': 'Delaware', 'NM': 'New Mexico', 'RI': 'Rhode Island', 'MN': 'Minnesota', 'VI': 'Virgin Islands', 'NH': 'New Hampshire', 'MA': 'Massachusetts', 'GA': 'Georgia', 'ND': 'North Dakota', 'VA': 'Virginia'}"
   ]
  },
  {
   "cell_type": "code",
   "execution_count": 574,
   "metadata": {
    "collapsed": true,
    "umich_part_id": "021",
    "umich_partlist_id": "004"
   },
   "outputs": [],
   "source": [
    "def get_list_of_university_towns():\n",
    "    '''Returns a DataFrame of towns and the states they are in from the \n",
    "    university_towns.txt list. The format of the DataFrame should be:\n",
    "    DataFrame( [ [\"Michigan\", \"Ann Arbor\"], [\"Michigan\", \"Yipsilanti\"] ], \n",
    "    columns=[\"State\", \"RegionName\"]  )\n",
    "    \n",
    "    The following cleaning needs to be done:\n",
    "\n",
    "    1. For \"State\", removing characters from \"[\" to the end.\n",
    "    2. For \"RegionName\", when applicable, removing every character from \" (\" to the end.\n",
    "    3. Depending on how you read the data, you may need to remove newline character '\\n'. '''\n",
    "    \n",
    "    ut = pd.read_csv('university_towns.txt', sep='\\n', names='A', encoding='utf-8')\n",
    "    ut['B'] = ut['A'].apply(lambda x: re.sub(r'[\\s]?\\(.*', '',x))\n",
    "    ut['RegionName'] = ut['B'].apply(lambda x: re.sub(r'\\[.*', '', x))\n",
    "    ut['C'] = ut['B'].apply(lambda x: re.search(r'\\[edit\\]', x))\n",
    "    ut.loc[pd.notnull(ut['C']), 'State'] = ut['RegionName']\n",
    "    ut['State'] = ut['State'].fillna(method='ffill')\n",
    "    ut=ut[['State', 'RegionName']]\n",
    "    ut = ut.loc[ut['RegionName'] != ut['State']].reset_index(drop=True)\n",
    "    \n",
    "    return ut"
   ]
  },
  {
   "cell_type": "code",
   "execution_count": 575,
   "metadata": {
    "collapsed": true
   },
   "outputs": [],
   "source": [
    "#getgdpdata\n",
    "def getgdp():\n",
    "    gdp = pd.read_excel('gdplev.xls')\n",
    "    gdp=gdp.iloc[7:, [4,6]]\n",
    "    gdp.columns = ['Quarter', 'GDP']\n",
    "    gdp['Quarter_dt'] = pd.to_datetime(gdp['Quarter'])\n",
    "    gdp = gdp.loc[gdp['Quarter'] >= '2001-01-01'].reset_index(drop=True)\n",
    "    return gdp"
   ]
  },
  {
   "cell_type": "code",
   "execution_count": 576,
   "metadata": {
    "collapsed": true,
    "umich_part_id": "022",
    "umich_partlist_id": "004"
   },
   "outputs": [],
   "source": [
    "def get_recession_start():\n",
    "    '''Returns the year and quarter of the recession start time as a \n",
    "    string value in a format such as 2005q3'''\n",
    "    \n",
    "    gdp=getgdp()\n",
    "\n",
    "    gdp.loc[gdp['GDP'].diff(1) < 0 , 'decline1'] = 1\n",
    "    gdp['decline2'] = gdp['decline1'].shift(1)\n",
    "    gdp.loc[gdp['decline1']+gdp['decline2'] == 2, 'rec_start2'] = 'Y'\n",
    "    gdp['rec_start'] = gdp['rec_start2'].shift(-1)\n",
    "    gdp.drop(['rec_start2'], axis=1, inplace=True)\n",
    "\n",
    "    return gdp.loc[gdp['rec_start']=='Y', 'Quarter'].reset_index(drop=True)[0]"
   ]
  },
  {
   "cell_type": "code",
   "execution_count": 589,
   "metadata": {
    "collapsed": true,
    "umich_part_id": "023",
    "umich_partlist_id": "004"
   },
   "outputs": [],
   "source": [
    "def get_recession_end():\n",
    "    '''Returns the year and quarter of the recession end time as a \n",
    "    string value in a format such as 2005q3'''\n",
    "    \n",
    "    gdp=getgdp()\n",
    "    \n",
    "    start_dt = gdp.loc[gdp['Quarter'] == get_recession_start(), 'Quarter_dt'].iloc[0]\n",
    "    \n",
    "    gdp = gdp.loc[gdp['Quarter_dt'] >= start_dt]\n",
    "    \n",
    "    gdp.loc[gdp['GDP'].diff(1) > 0 , 'growth1'] = 1\n",
    "    gdp['growth2'] = gdp['growth1'].shift(1)\n",
    "    gdp.loc[gdp['growth1']+gdp['growth2'] == 2, 'rec_end2'] = 'Y'\n",
    "    #gdp['rec_end'] = gdp['rec_end2'].shift(1)\n",
    "    #gdp.drop(['rec_end2'], axis=1, inplace=True)\n",
    "    return gdp.loc[gdp['rec_end2']=='Y', 'Quarter'].reset_index(drop=True)[0]"
   ]
  },
  {
   "cell_type": "code",
   "execution_count": 578,
   "metadata": {
    "collapsed": true,
    "umich_part_id": "024",
    "umich_partlist_id": "004"
   },
   "outputs": [],
   "source": [
    "def get_recession_bottom():\n",
    "    '''Returns the year and quarter of the recession bottom time as a \n",
    "    string value in a format such as 2005q3'''\n",
    "    \n",
    "    gdp=getgdp()\n",
    "    start_dt = gdp.loc[gdp['Quarter'] == get_recession_start(), 'Quarter_dt'].iloc[0]\n",
    "    end_dt = gdp.loc[gdp['Quarter'] == get_recession_end(), 'Quarter_dt'].iloc[0]\n",
    "    \n",
    "    gdp_rec = gdp.loc[(gdp['Quarter_dt'] >= start_dt) & (gdp['Quarter_dt'] <= end_dt)]\n",
    "    \n",
    "    return gdp['Quarter'][gdp_rec['GDP'].idxmin()]"
   ]
  },
  {
   "cell_type": "code",
   "execution_count": 579,
   "metadata": {
    "collapsed": true,
    "umich_part_id": "025",
    "umich_partlist_id": "004"
   },
   "outputs": [],
   "source": [
    "def convert_housing_data_to_quarters():\n",
    "    '''Converts the housing data to quarters and returns it as mean \n",
    "    values in a dataframe. This dataframe should be a dataframe with\n",
    "    columns for 2000q1 through 2016q3, and should have a multi-index\n",
    "    in the shape of [\"State\",\"RegionName\"].\n",
    "    \n",
    "    Note: Quarters are defined in the assignment description, they are\n",
    "    not arbitrary three month periods.\n",
    "    \n",
    "    The resulting dataframe should have 67 columns, and 10,730 rows.\n",
    "    '''\n",
    "    housing = pd.read_csv('City_Zhvi_AllHomes.csv')\n",
    "    housing['State'] = housing['State'].map(states)\n",
    "    housing = housing.drop(['RegionID', 'Metro', 'CountyName', 'SizeRank'], axis=1).set_index(['State', 'RegionName'])\n",
    "    housing = housing.groupby(pd.PeriodIndex(housing.columns, freq='Q'), axis=1).mean()\n",
    "    housing = housing[[col for col in housing.columns if col>=pd.Period('2000Q1')]]\n",
    "    \n",
    "    return housing\n",
    "\n"
   ]
  },
  {
   "cell_type": "code",
   "execution_count": 580,
   "metadata": {
    "collapsed": true,
    "scrolled": true,
    "umich_part_id": "026",
    "umich_partlist_id": "004"
   },
   "outputs": [],
   "source": [
    "def run_ttest():\n",
    "    '''First creates new data showing the decline or growth of housing prices\n",
    "    between the recession start and the recession bottom. Then runs a ttest\n",
    "    comparing the university town values to the non-university towns values, \n",
    "    return whether the alternative hypothesis (that the two groups are the same)\n",
    "    is true or not as well as the p-value of the confidence. \n",
    "    \n",
    "    Return the tuple (different, p, better) where different=True if the t-test is\n",
    "    True at a p<0.01 (we reject the null hypothesis), or different=False if \n",
    "    otherwise (we cannot reject the null hypothesis). The variable p should\n",
    "    be equal to the exact p value returned from scipy.stats.ttest_ind(). The\n",
    "    value for better should be either \"university town\" or \"non-university town\"\n",
    "    depending on which has a lower mean price ratio (which is equivilent to a\n",
    "    reduced market loss).'''\n",
    "\n",
    "    before_rec = str(pd.Period(get_recession_start()))\n",
    "    bottom_rec = str(pd.Period(get_recession_bottom()))\n",
    "    \n",
    "    \n",
    "    housing=convert_housing_data_to_quarters()\n",
    "    housing.columns = [str(c) for c in housing.columns]\n",
    "    \n",
    "    housing=housing.dropna(subset=[before_rec, bottom_rec])\n",
    "    housing['price ratio']=housing[before_rec]/housing[bottom_rec]\n",
    "    housing=housing[['price ratio']]\n",
    "    \n",
    "    ut = get_list_of_university_towns()\n",
    "    ut['UT'] = 'Y'\n",
    "    ut = ut.set_index(['State', 'RegionName'])\n",
    "    \n",
    "    df = housing.join(ut, how='left')\n",
    "    \n",
    "    ut_y = df.loc[df['UT']=='Y'].drop(['UT'], axis=1)\n",
    "    ut_n = df.loc[pd.isnull(df['UT'])].drop(['UT'], axis=1)    \n",
    "                  \n",
    "    stat,p = ttest_ind(ut_y['price ratio'], ut_n['price ratio'])\n",
    "    \n",
    "    if p<0.01:\n",
    "        sig=True\n",
    "    else:\n",
    "        sig=False\n",
    "    \n",
    "    if stat>0:\n",
    "        better='non-university town'\n",
    "    else:\n",
    "        better='university town'\n",
    "    \n",
    "    \n",
    "    return (sig, p, better)"
   ]
  }
 ],
 "metadata": {
  "coursera": {
   "course_slug": "python-data-analysis",
   "graded_item_id": "Il9Fx",
   "launcher_item_id": "TeDW0",
   "part_id": "WGlun"
  },
  "kernelspec": {
   "display_name": "Python 3",
   "language": "python",
   "name": "python3"
  },
  "language_info": {
   "codemirror_mode": {
    "name": "ipython",
    "version": 3
   },
   "file_extension": ".py",
   "mimetype": "text/x-python",
   "name": "python",
   "nbconvert_exporter": "python",
   "pygments_lexer": "ipython3",
   "version": "3.6.2"
  },
  "umich": {
   "id": "Assignment 4",
   "version": "1.1"
  }
 },
 "nbformat": 4,
 "nbformat_minor": 1
}
