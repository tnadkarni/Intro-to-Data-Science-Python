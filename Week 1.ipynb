{
 "cells": [
  {
   "cell_type": "code",
   "execution_count": 87,
   "metadata": {},
   "outputs": [
    {
     "name": "stdout",
     "output_type": "stream",
     "text": [
      "['a', 'b', 'c', 1, 2, 3]\n",
      "a apple\n",
      "b boy\n",
      "c cat\n"
     ]
    },
    {
     "data": {
      "text/plain": [
       "'apple'"
      ]
     },
     "execution_count": 87,
     "metadata": {},
     "output_type": "execute_result"
    }
   ],
   "source": [
    "from IPython.display import clear_output\n",
    "\n",
    "print(['a', 'b', 'c']+[1,2,3])\n",
    "\n",
    "#dictionary\n",
    "d = {'a':'apple', 'b':'boy', 'c':'cat'}\n",
    "for k,v,in d.items():\n",
    "    print(k,v)\n",
    "\n",
    "#tuples\n",
    "x = ('apple', 'boy', 'cat')\n",
    "a,b,c = x\n",
    "a"
   ]
  },
  {
   "cell_type": "code",
   "execution_count": 27,
   "metadata": {},
   "outputs": [
    {
     "name": "stdout",
     "output_type": "stream",
     "text": [
      "Chris bought 4 item(s) at a price of 3.24 each for total of 12.96\n"
     ]
    }
   ],
   "source": [
    "#string formats - stings are not mutable, variable with a string value can be changed\n",
    "record = {'price':3.24,'num_items':4,'person':'Chris'}\n",
    "\n",
    "sales_statement = '{} bought {} item(s) at a price of {} each for total of {}'\n",
    "\n",
    "print(sales_statement.format(record['person'],\n",
    "                            record['num_items'],\n",
    "                            record['price'],\n",
    "                            record['price']*record['num_items']))"
   ]
  },
  {
   "cell_type": "code",
   "execution_count": 94,
   "metadata": {},
   "outputs": [
    {
     "data": {
      "text/plain": [
       "[OrderedDict([('mpg', '18'),\n",
       "              ('cylinders', '8'),\n",
       "              ('displacement', '307'),\n",
       "              ('horsepower', '130'),\n",
       "              ('weight', '3504'),\n",
       "              ('acceleration', '12'),\n",
       "              ('model_year', '70'),\n",
       "              ('origin', '1'),\n",
       "              ('name', 'chevrolet chevelle malibu')]),\n",
       " OrderedDict([('mpg', '15'),\n",
       "              ('cylinders', '8'),\n",
       "              ('displacement', '350'),\n",
       "              ('horsepower', '165'),\n",
       "              ('weight', '3693'),\n",
       "              ('acceleration', '11.5'),\n",
       "              ('model_year', '70'),\n",
       "              ('origin', '1'),\n",
       "              ('name', 'buick skylark 320')]),\n",
       " OrderedDict([('mpg', '18'),\n",
       "              ('cylinders', '8'),\n",
       "              ('displacement', '318'),\n",
       "              ('horsepower', '150'),\n",
       "              ('weight', '3436'),\n",
       "              ('acceleration', '11'),\n",
       "              ('model_year', '70'),\n",
       "              ('origin', '1'),\n",
       "              ('name', 'plymouth satellite')])]"
      ]
     },
     "execution_count": 94,
     "metadata": {},
     "output_type": "execute_result"
    }
   ],
   "source": [
    "#files\n",
    "\n",
    "import csv\n",
    "\n",
    "%precision 2 #using ipython\n",
    "\n",
    "with open('mpg.csv') as csvfile:\n",
    "    mpg=list(csv.DictReader(csvfile))\n",
    "    \n",
    "mpg[:3]"
   ]
  },
  {
   "cell_type": "code",
   "execution_count": 36,
   "metadata": {},
   "outputs": [
    {
     "name": "stdout",
     "output_type": "stream",
     "text": [
      "398\n",
      "odict_keys(['mpg', 'cylinders', 'displacement', 'horsepower', 'weight', 'acceleration', 'model_year', 'origin', 'name'])\n"
     ]
    },
    {
     "data": {
      "text/plain": [
       "23.51"
      ]
     },
     "execution_count": 36,
     "metadata": {},
     "output_type": "execute_result"
    }
   ],
   "source": [
    "print(len(mpg))\n",
    "\n",
    "print(mpg[0].keys())\n",
    "\n",
    "#avg city mpg\n",
    "\n",
    "sum(float(d['mpg']) for d in mpg)/len(mpg)\n",
    "\n"
   ]
  },
  {
   "cell_type": "code",
   "execution_count": 96,
   "metadata": {},
   "outputs": [
    {
     "data": {
      "text/plain": [
       "{'70', '71', '72', '73', '74', '75', '76', '77', '78', '79', '80', '81', '82'}"
      ]
     },
     "execution_count": 96,
     "metadata": {},
     "output_type": "execute_result"
    }
   ],
   "source": [
    "cyl=set(d['model_year'] for d in mpg)\n",
    "cyl"
   ]
  },
  {
   "cell_type": "code",
   "execution_count": 97,
   "metadata": {},
   "outputs": [
    {
     "data": {
      "text/plain": [
       "[('70', 17.69),\n",
       " ('71', 21.25),\n",
       " ('72', 18.71),\n",
       " ('73', 17.10),\n",
       " ('74', 22.70),\n",
       " ('75', 20.27),\n",
       " ('76', 21.57),\n",
       " ('77', 23.38),\n",
       " ('78', 24.06),\n",
       " ('79', 25.09),\n",
       " ('80', 33.70),\n",
       " ('81', 30.33),\n",
       " ('82', 31.71)]"
      ]
     },
     "execution_count": 97,
     "metadata": {},
     "output_type": "execute_result"
    }
   ],
   "source": [
    "mpgbymodyr = []\n",
    "\n",
    "for c in my:\n",
    "    summpg = 0\n",
    "    mycount = 0\n",
    "    for d in mpg:\n",
    "        if d['model_year'] == c:\n",
    "            summpg += float(d['mpg'])\n",
    "            mycount += 1\n",
    "    mpgbymodyr.append((c, summpg/mycount))\n",
    "        \n",
    "mpgbymodyr.sort(key=lambda x: x[0])\n",
    "mpgbymodyr"
   ]
  },
  {
   "cell_type": "code",
   "execution_count": 104,
   "metadata": {},
   "outputs": [],
   "source": [
    "#dates and times epoch:jan 1 1970\n",
    "\n",
    "import datetime as dt\n",
    "import time as tm\n",
    "\n",
    "dtnow=dt.datetime.fromtimestamp(tm.time())\n",
    "dtnow.year, dtnow.month, dtnow.hour, dtnow.minute"
   ]
  },
  {
   "cell_type": "code",
   "execution_count": 110,
   "metadata": {},
   "outputs": [],
   "source": [
    "#advanced topics\n",
    "\n",
    "class Person:\n",
    "    department='School of Information'\n",
    "    \n",
    "    def set_name(self, new_name):\n",
    "        self.name = new_name\n",
    "        \n",
    "    def set_location(self, new_location):\n",
    "        self.location=new_location\n",
    "        \n",
    "#constructor __init__method\n",
    "#map map(function, iterable)"
   ]
  },
  {
   "cell_type": "code",
   "execution_count": 115,
   "metadata": {},
   "outputs": [
    {
     "name": "stdout",
     "output_type": "stream",
     "text": [
      "9\n",
      "11\n",
      "12.34\n",
      "2.01\n"
     ]
    }
   ],
   "source": [
    "store1=[10,11,12.34,2.34]\n",
    "store2=[9, 11.10, 12.34, 2.01]\n",
    "\n",
    "cheapest=map(min, store1, store2)\n",
    "#returns map object does not try to run the function till you look inside for a value\n",
    "cheapest\n",
    "\n",
    "for m in cheapest:\n",
    "    print(m)"
   ]
  },
  {
   "cell_type": "code",
   "execution_count": 150,
   "metadata": {},
   "outputs": [
    {
     "name": "stdout",
     "output_type": "stream",
     "text": [
      "Dr. Brooks\n",
      "Dr. Collins-Thompson\n",
      "Dr. Vydiswaran\n",
      "Dr. Romero\n",
      "Dr. Brooks\n",
      "Dr. Collins-Thompson\n",
      "Dr. Vydiswaran\n",
      "Dr. Romero\n",
      "['Dr. Brooks', 'Dr. Collins-Thompson', 'Dr. Vydiswaran', 'Dr. Romero']\n",
      "['Dr. Brooks', 'Dr. Collins-Thompson', 'Dr. Vydiswaran', 'Dr. Romero']\n"
     ]
    }
   ],
   "source": [
    "people = ['Dr. Christopher Brooks', 'Dr. Kevyn Collins-Thompson', 'Dr. VG Vinod Vydiswaran', 'Dr. Daniel Romero']\n",
    "\n",
    "#4 options to get title and last name\n",
    "\n",
    "def split_title_and_name(person):\n",
    "    return person.split()[0] + ' ' + person.split()[-1]\n",
    "\n",
    "for person in people:\n",
    "    print(split_title_and_name(person))\n",
    "\n",
    "for person in people:\n",
    "    print((lambda x:x.split()[0]+' '+x.split()[-1])(person))\n",
    "    \n",
    "l1 = list(map(split_title_and_name, people))\n",
    "print(l1)\n",
    "\n",
    "l2 = list(map(lambda x:x.split()[0]+' '+x.split()[-1], people))\n",
    "print(l2)"
   ]
  },
  {
   "cell_type": "code",
   "execution_count": 161,
   "metadata": {},
   "outputs": [
    {
     "data": {
      "text/plain": [
       "True"
      ]
     },
     "execution_count": 161,
     "metadata": {},
     "output_type": "execute_result"
    }
   ],
   "source": [
    "#list comprehensions\n",
    "\n",
    "my_list1=[]\n",
    "for number in range(1000):\n",
    "    if number%2==0:\n",
    "        my_list1.append(number)\n",
    "        \n",
    "my_list2 = [number for number in range(1000) if number%2==0]\n",
    "\n",
    "my_list1==my_list2"
   ]
  },
  {
   "cell_type": "code",
   "execution_count": 167,
   "metadata": {},
   "outputs": [
    {
     "data": {
      "text/plain": [
       "True"
      ]
     },
     "execution_count": 167,
     "metadata": {},
     "output_type": "execute_result"
    }
   ],
   "source": [
    "def times_tables():\n",
    "    lst = []\n",
    "    for i in range(10):\n",
    "        for j in range (10):\n",
    "            lst.append(i*j)\n",
    "    return lst\n",
    "\n",
    "times_tables() == [i*j for i in range(10) for j in range(10)]"
   ]
  },
  {
   "cell_type": "code",
   "execution_count": 25,
   "metadata": {},
   "outputs": [
    {
     "name": "stdout",
     "output_type": "stream",
     "text": [
      "(2, 3)\n",
      "[ 0  2  4  6  8 10 12 14 16 18 20 22 24 26 28]\n",
      "[[ 0  2  4  6  8]\n",
      " [10 12 14 16 18]\n",
      " [20 22 24 26 28]]\n",
      "[0.  0.5 1.  1.5 2.  2.5 3.  3.5 4. ]\n",
      "[[0.  0.5 1. ]\n",
      " [1.5 2.  2.5]\n",
      " [3.  3.5 4. ]]\n",
      "[[1. 1.]]\n",
      "[[0. 0.]]\n",
      "[[1. 0. 0.]\n",
      " [0. 1. 0.]\n",
      " [0. 0. 1.]]\n"
     ]
    },
    {
     "data": {
      "text/plain": [
       "array([[4, 0, 0],\n",
       "       [0, 5, 0],\n",
       "       [0, 0, 6]])"
      ]
     },
     "execution_count": 25,
     "metadata": {},
     "output_type": "execute_result"
    }
   ],
   "source": [
    "#numpy\n",
    "import numpy as np\n",
    "\n",
    "mylist=[[1,2,3], [4,5,6]]\n",
    "x=np.array(mylist)\n",
    "print(x.shape)\n",
    "\n",
    "n = np.arange(0,30,2)\n",
    "print(n)\n",
    "r=n.reshape(3,5)\n",
    "print(r)\n",
    "\n",
    "o=np.linspace(0,4,9)\n",
    "print(o)\n",
    "o.resize(3,3) #resize changes data, reshape doesnt\n",
    "print(o)\n",
    "\n",
    "print(np.ones((1,2)))\n",
    "print(np.zeros((1,2)))\n",
    "\n",
    "print(np.eye(3))\n",
    "\n",
    "y=[4,5,6]\n",
    "print(np.diag(y))\n",
    "\n",
    "p=np.ones([2,3], int)\n",
    "print(np.vstack([p, 2*p]))\n",
    "print(np.hstack([p, 2*p]))"
   ]
  },
  {
   "cell_type": "code",
   "execution_count": 73,
   "metadata": {},
   "outputs": [],
   "source": [
    "#operations\n",
    "x=np.array([1,2,3])\n",
    "y=np.array([4,5,6])\n",
    "\n",
    "print(x.dot(y))\n",
    "\n",
    "z=np.array([y, y**2])\n",
    "\n",
    "print(z.T)\n",
    "\n",
    "print(z.std(), z.argmax(), z.argmin())\n",
    "\n",
    "s=np.arange(13)**2\n",
    "print(s)\n",
    "print(s[0], s[0:3], s[-4:])\n",
    "\n",
    "#5th from end to beginning counting backwards by 2\n",
    "print(s[-5::-2])\n",
    "\n",
    "#2D array\n",
    "r=np.arange(36)\n",
    "r.resize((6,6))\n",
    "print(r)\n",
    "\n",
    "print(r[2,2], r[3,3:6])\n",
    "\n",
    "print(r[:2, :-1], r[-1, ::2])\n",
    "\n",
    "r[r>30] =30\n",
    "print(r)\n",
    "\n",
    "#assingment will change original array, .copy() will not\n",
    "\n",
    "r2= r[:3, :3]\n",
    "r2[:] = 0\n",
    "print(r)\n",
    "\n",
    "r_copy = r.copy()\n",
    "r_copy[:] = 10\n",
    "print(r)\n",
    "\n",
    "\n",
    "#clear_output()"
   ]
  },
  {
   "cell_type": "code",
   "execution_count": 85,
   "metadata": {},
   "outputs": [
    {
     "name": "stdout",
     "output_type": "stream",
     "text": [
      "[[0 9 1]\n",
      " [4 6 3]\n",
      " [3 6 4]\n",
      " [1 9 6]]\n",
      "[0 9 1]\n",
      "[4 6 3]\n",
      "[3 6 4]\n",
      "[1 9 6]\n",
      "[0 9 1]\n",
      "[4 6 3]\n",
      "[3 6 4]\n",
      "[1 9 6]\n",
      "row  0  is  [0 9 1]\n",
      "row  1  is  [4 6 3]\n",
      "row  2  is  [3 6 4]\n",
      "row  3  is  [1 9 6]\n",
      "[0 9 1]  +  [ 0 81  1]  =  [ 0 90  2]\n",
      "[4 6 3]  +  [16 36  9]  =  [20 42 12]\n",
      "[3 6 4]  +  [ 9 36 16]  =  [12 42 20]\n",
      "[1 9 6]  +  [ 1 81 36]  =  [ 2 90 42]\n"
     ]
    }
   ],
   "source": [
    "#iterating over arrays\n",
    "test = np.random.randint(0,10,(4,3))\n",
    "print(test)\n",
    "for row in test:\n",
    "    print(row)\n",
    "\n",
    "for i in range(len(test)):\n",
    "    print(test[i])\n",
    "    \n",
    "for i, row in enumerate(test):\n",
    "    print('row ', i, ' is ', row)\n",
    "    \n",
    "test2 = test**2\n",
    "\n",
    "for i,j in zip(test, test2):\n",
    "    print(i, ' + ', j, ' = ',i+j)"
   ]
  },
  {
   "cell_type": "code",
   "execution_count": 92,
   "metadata": {},
   "outputs": [
    {
     "data": {
      "text/plain": [
       "array([[14, 15],\n",
       "       [20, 21]])"
      ]
     },
     "execution_count": 92,
     "metadata": {},
     "output_type": "execute_result"
    }
   ],
   "source": [
    "x = np.arange(36).reshape(6,6)\n",
    "x[2:4, 2:4]"
   ]
  },
  {
   "cell_type": "code",
   "execution_count": null,
   "metadata": {},
   "outputs": [],
   "source": []
  }
 ],
 "metadata": {
  "kernelspec": {
   "display_name": "Python(projects)",
   "language": "python",
   "name": "projects"
  },
  "language_info": {
   "codemirror_mode": {
    "name": "ipython",
    "version": 3
   },
   "file_extension": ".py",
   "mimetype": "text/x-python",
   "name": "python",
   "nbconvert_exporter": "python",
   "pygments_lexer": "ipython3",
   "version": "3.7.3"
  }
 },
 "nbformat": 4,
 "nbformat_minor": 2
}
